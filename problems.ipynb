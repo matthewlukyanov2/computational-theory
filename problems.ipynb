{
 "cells": [
  {
   "cell_type": "markdown",
   "id": "84f136b5",
   "metadata": {},
   "source": [
    "# Computational Theory Problems"
   ]
  },
  {
   "cell_type": "markdown",
   "id": "9e34cadd",
   "metadata": {},
   "source": [
    "Problem 1"
   ]
  },
  {
   "cell_type": "markdown",
   "id": "cdbb0aed",
   "metadata": {},
   "source": [
    "Problem 2"
   ]
  },
  {
   "cell_type": "markdown",
   "id": "2d9999d9",
   "metadata": {},
   "source": [
    "Problem 3"
   ]
  },
  {
   "cell_type": "markdown",
   "id": "fefb3070",
   "metadata": {},
   "source": [
    "Problem 4"
   ]
  }
 ],
 "metadata": {
  "language_info": {
   "name": "python"
  }
 },
 "nbformat": 4,
 "nbformat_minor": 5
}
