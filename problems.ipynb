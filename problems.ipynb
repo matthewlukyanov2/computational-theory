{
 "cells": [
  {
   "cell_type": "markdown",
   "id": "84f136b5",
   "metadata": {},
   "source": [
    "# Computational Theory Problems"
   ]
  },
  {
   "cell_type": "code",
   "execution_count": 4,
   "id": "1b69e757",
   "metadata": {},
   "outputs": [],
   "source": [
    "import numpy as np"
   ]
  },
  {
   "cell_type": "markdown",
   "id": "9e34cadd",
   "metadata": {},
   "source": [
    "Problem 1: Binary Words and Operations"
   ]
  },
  {
   "cell_type": "markdown",
   "id": "e0fa52ba",
   "metadata": {},
   "source": [
    "## Problem 1: Binary Words and Operations\n",
    "\n",
    "The Parity function is used in the SHA-1 cryptographic hash function between rounds 16–79. It takes three 32-bit integers as inputs and returns the result of their bitwise XOR(exclusive or).The code below ensures all values are cast to 32-bit integers using NumPy."
   ]
  },
  {
   "cell_type": "code",
   "execution_count": null,
   "id": "8859ad19",
   "metadata": {},
   "outputs": [
    {
     "name": "stdout",
     "output_type": "stream",
     "text": [
      "Result (binary): 0b10010110\n"
     ]
    }
   ],
   "source": [
    "import numpy as np\n",
    "\n",
    "def parity(x, y, z):\n",
    "    \"\"\"\n",
    "    Computes the SHA-1 Parity function: x XOR y XOR z.\n",
    "\n",
    "    Parameters:\n",
    "        x: First 32-bit integer\n",
    "        y: Second 32-bit integer\n",
    "        z: Third 32-bit integer\n",
    "\n",
    "    Returns:\n",
    "        np.int32: Result of Parity\n",
    "    \"\"\"\n",
    "    # Convert inputs to 32-bit integers \n",
    "    x = np.int32(x)\n",
    "    y = np.int32(y)\n",
    "    z = np.int32(z)\n",
    "\n",
    "    # Perform the Partiy operation\n",
    "    return np.int32(x ^ y ^ z)\n",
    "\n",
    "# Example usage and test case\n",
    "a = 0b10101010\n",
    "b = 0b11001100\n",
    "c = 0b11110000\n",
    "\n",
    "result = parity(a, b, c)\n",
    "print(f\"Result (binary): {bin(result)}\")\n"
   ]
  },
  {
   "cell_type": "markdown",
   "id": "e642bcd4",
   "metadata": {},
   "source": [
    "# Ch(x, y, z)\n",
    "\n",
    "The Choose (Ch) function is used in the SHA-1 and SHA-256 cryptographic hash functions.\n",
    "It takes three 32-bit integers as inputs and, for each bit position, selects the bit from y if the corresponding bit in x is 1, otherwise selects the bit from z"
   ]
  },
  {
   "cell_type": "code",
   "execution_count": 2,
   "id": "bf7268bf",
   "metadata": {},
   "outputs": [
    {
     "name": "stdout",
     "output_type": "stream",
     "text": [
      "Result (binary): 0b11011000\n"
     ]
    }
   ],
   "source": [
    "import numpy as np\n",
    "\n",
    "def ch(x, y, z):\n",
    "    \"\"\"\n",
    "    Computes the SHA-1/256 Choose function: (x & y) ^ (~x & z)\n",
    "\n",
    "    Parameters:\n",
    "        x: First 32-bit integer\n",
    "        y: Second 32-bit integer\n",
    "        z: Third 32-bit integer\n",
    "\n",
    "    Returns:\n",
    "        np.int32: Result of Ch(x, y, z)\n",
    "    \"\"\"\n",
    "    # Convert inputs to 32-bit integers\n",
    "    x = np.int32(x)\n",
    "    y = np.int32(y)\n",
    "    z = np.int32(z)\n",
    "\n",
    "    # Perform the Choose operation\n",
    "    return np.int32((x & y) ^ ((~x) & z))\n",
    "\n",
    "# Example usage and test case\n",
    "a = 0b10101010\n",
    "b = 0b11001100\n",
    "c = 0b11110000\n",
    "\n",
    "result = ch(a, b, c)\n",
    "print(f\"Result (binary): {bin(int(result) & 0xffffffff)}\")\n"
   ]
  },
  {
   "cell_type": "markdown",
   "id": "cdbb0aed",
   "metadata": {},
   "source": [
    "Problem 2: Fractional Parts of Cube Roots"
   ]
  },
  {
   "cell_type": "markdown",
   "id": "2d9999d9",
   "metadata": {},
   "source": [
    "Problem 3: Padding"
   ]
  },
  {
   "cell_type": "markdown",
   "id": "fefb3070",
   "metadata": {},
   "source": [
    "Problem 4: Hashes"
   ]
  },
  {
   "cell_type": "markdown",
   "id": "26f4425e",
   "metadata": {},
   "source": [
    "Problem 5: Passwords"
   ]
  }
 ],
 "metadata": {
  "kernelspec": {
   "display_name": "Python 3",
   "language": "python",
   "name": "python3"
  },
  "language_info": {
   "codemirror_mode": {
    "name": "ipython",
    "version": 3
   },
   "file_extension": ".py",
   "mimetype": "text/x-python",
   "name": "python",
   "nbconvert_exporter": "python",
   "pygments_lexer": "ipython3",
   "version": "3.12.1"
  }
 },
 "nbformat": 4,
 "nbformat_minor": 5
}
