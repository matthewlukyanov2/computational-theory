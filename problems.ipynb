{
 "cells": [
  {
   "cell_type": "markdown",
   "id": "84f136b5",
   "metadata": {},
   "source": [
    "# Computational Theory Problems"
   ]
  },
  {
   "cell_type": "code",
   "execution_count": 4,
   "id": "1b69e757",
   "metadata": {},
   "outputs": [],
   "source": [
    "import numpy as np"
   ]
  },
  {
   "cell_type": "markdown",
   "id": "e0fa52ba",
   "metadata": {},
   "source": [
    "# Problem 1: Binary Words and Operations\n",
    "\n",
    "## Parity(x, y, z)\n",
    "The Parity function, used in the SHA-1 cryptographic hash function from rounds 16 to 79, generates the bitwise\n",
    " XOR (known as exclusive OR) of three 32-bit integers that are fed into it. If the odd number of bits is \"1\", the\n",
    " operation then evaluates each  corresponding bit of the inputs and outputs \"1\", otherwise it outputs as \"0\".\n",
    "\n",
    "The code ensures all values are cast to 32-bit integers using NumPy to match the behavior expected in SHA-1.\n",
    "\n",
    "## Ch(x, y, z)\n",
    "The Choose (Ch) function is used in the SHA-1 and SHA-256 cryptographic hash functions.\n",
    "It takes three 32-bit integers as inputs and, for each bit position, selects the bit from y if the corresponding bit in x is 1, otherwise selects the bit from z\n",
    "\n",
    "## Maj(x, y, z)\n",
    "The Majority function is a logical operation defined in the Secure Hash Standard. It is used in SHA-1 and in SHA-256. The function returns the bitwise majority value of its three 32-bit inputs and that is each output bit is 1 if atleast two of the corresponding input bits are 1.\n",
    "\n",
    "## Sigma0(x) \n",
    "In the SHA-256 algorithm, the Σ₀₍₂₅₆₎ function performs a combination of bitwise right rotations (ROTR) and right shifts on a 32-bit word x.\n",
    "It is defined in the FIPS 180-4 Secure Hash Standard (SHS) as:\n",
    "\n",
    "Σ0​(x)=ROTR2(x)⊕ROTR13(x)⊕ROTR22(x)\n",
    "\n",
    "This means that\n",
    "\n",
    "Rotate x right by 2 bits\n",
    "\n",
    "Rotate x right by 13 bits\n",
    "\n",
    "Rotate x right by 22 bits\n",
    "Then XOR all three results together.\n",
    "\n",
    "## sigma0(x) Σ0256(x)\n",
    "Sigma0(x) - written as Σ0256(x) in the standard, Often referred to as sigma0, is a function \n",
    "part of the SHA-256 hashing algorithm that takes x as an input, where x is the 32-bit unsigned value\n",
    "and is converted into code as follows:\n",
    "ROTATE_RIGHT(X, 7) ^ ROTATE_RIGHT(X, 18) ^ SHIFT_RIGHT(X, 3)\n",
    "The ROTATE_RIGHT(X,Y) rotates x bits to the right by y\n",
    "the SHIFT_RIGHT(X,Y) shifts x bits to the right by y so the first y bits of the result are always 0\n",
    "\n",
    "References for XOR operations: [NumPy documentation](https://numpy.org/doc/stable/reference/generated/numpy.bitwise_xor.html)\n",
    "References for Secure Hash Standard: [FIPS PUB 180-4 (2015)](https://nvlpubs.nist.gov/nistpubs/FIPS/NIST.FIPS.180-4.pdf)\n",
    "Reference for Sigma0 function: [Stackoverflow algorithims] (https://stackoverflow.com/questions/66607696/reverse-sha-256-sigma0-function-within-complexity-of-on)"
   ]
  },
  {
   "cell_type": "code",
   "execution_count": 3,
   "id": "8859ad19",
   "metadata": {},
   "outputs": [],
   "source": [
    "import numpy as np\n",
    "\n",
    "def parity(x: int, y: int, z: int) -> np.uint32:\n",
    "    \"\"\"\n",
    "    Computes the SHA-1 Parity function: bitwise XOR of three 32-bit unsigned integers.\n",
    "\n",
    "    Parameters:\n",
    "        x: First 32-bit unsigned integer\n",
    "        y: Second 32-bit unsigned integer\n",
    "        z: Third 32-bit unsigned integer\n",
    "\n",
    "    Returns:\n",
    "        np.int32: Result of Parity (x XOR y XOR z)\n",
    "\n",
    "    Used in SHA-1 rounds 16–79 to combine three words.\n",
    "    \"\"\"\n",
    "    # Convert inputs to 32-bit unsigned integers \n",
    "    x = np.uint32(x)\n",
    "    y = np.uint32(y)\n",
    "    z = np.uint32(z)\n",
    "\n",
    "    # Perform the Partiy operation\n",
    "    return x ^ y ^ z\n",
    "\n"
   ]
  },
  {
   "cell_type": "code",
   "execution_count": 5,
   "id": "c8e165d4",
   "metadata": {},
   "outputs": [
    {
     "name": "stdout",
     "output_type": "stream",
     "text": [
      "Result (binary): 0b10010110\n"
     ]
    }
   ],
   "source": [
    "# Example usage and test case\n",
    "a = 0b10101010\n",
    "b = 0b11001100\n",
    "c = 0b11110000\n",
    "\n",
    "result = parity(a, b, c)\n",
    "print(f\"Result (binary): {bin(result)}\")\n"
   ]
  },
  {
   "cell_type": "code",
   "execution_count": 7,
   "id": "bf7268bf",
   "metadata": {},
   "outputs": [],
   "source": [
    "import numpy as np\n",
    "\n",
    "def ch(x, y, z):\n",
    "    \"\"\"\n",
    "    Computes the SHA-1/256 Choose function: (x & y) ^ (~x & z)\n",
    "\n",
    "    Parameters:\n",
    "        x: First 32-bit integer\n",
    "        y: Second 32-bit integer\n",
    "        z: Third 32-bit integer\n",
    "\n",
    "    Returns:\n",
    "        np.int32: Result of Ch(x, y, z)\n",
    "    \"\"\"\n",
    "    # Convert inputs to 32-bit integers\n",
    "    x = np.int32(x)\n",
    "    y = np.int32(y)\n",
    "    z = np.int32(z)\n",
    "\n",
    "    # Perform the Choose operation\n",
    "    return np.int32((x & y) ^ ((~x) & z))\n",
    "\n"
   ]
  },
  {
   "cell_type": "code",
   "execution_count": 8,
   "id": "e53c6c6d",
   "metadata": {},
   "outputs": [
    {
     "name": "stdout",
     "output_type": "stream",
     "text": [
      "Result (binary): 0b11011000\n"
     ]
    }
   ],
   "source": [
    "# Example usage and test case\n",
    "a = 0b10101010\n",
    "b = 0b11001100\n",
    "c = 0b11110000\n",
    "\n",
    "result = ch(a, b, c)\n",
    "print(f\"Result (binary): {bin(int(result) & 0xffffffff)}\")\n"
   ]
  },
  {
   "cell_type": "code",
   "execution_count": 1,
   "id": "d31dad79",
   "metadata": {},
   "outputs": [],
   "source": [
    "import numpy as np\n",
    "\n",
    "def maj(x, y, z):\n",
    "    \"\"\"\n",
    "    Computes the SHA-1/256 Majority function: (x & y) ^ (x & z) ^ (y & z)\n",
    "\n",
    "    Parameters:\n",
    "       x: First 32-bit integer\n",
    "       y: Second 32-bit integer\n",
    "       z: Third 32-bit integer\n",
    "\n",
    "    Returns:\n",
    "       np.int32: Result of Maj(x, y, z)\n",
    "\n",
    "    \"\"\"\n",
    "    #Convert inputs to 32-bit integers\n",
    "    x = np.int32(x)\n",
    "    y =  np.int32(y)\n",
    "    z =  np.int32(z)\n",
    "\n",
    "    #Perform the Majority operation\n",
    "    return np.int32((x & y) ^ (x & z) ^ (y & z))\n",
    "    "
   ]
  },
  {
   "cell_type": "code",
   "execution_count": null,
   "id": "47e35944",
   "metadata": {},
   "outputs": [
    {
     "name": "stdout",
     "output_type": "stream",
     "text": [
      "Result (binary): 0b11101000\n"
     ]
    }
   ],
   "source": [
    "# Example usage and test case\n",
    "a = 0b10101010\n",
    "b = 0b11001100\n",
    "c = 0b11110000\n",
    "\n",
    "result = maj(a, b, c)\n",
    "print(f\"Result (binary): {bin(int(result) & 0xffffffff)}\")"
   ]
  },
  {
   "cell_type": "code",
   "execution_count": null,
   "id": "0f6aeb11",
   "metadata": {},
   "outputs": [],
   "source": [
    "import numpy as np\n",
    "\n",
    "def rotr(x: np.uint32, n: int) -> np.uint32:\n",
    "    x = np.uint32(x)\n",
    "    return np.uint32((x >> n) | (x << (32 - n)) & np.uint32(0xFFFFFFFF))\n",
    "\n",
    "\n",
    "def Sigma0(x: int) -> np.uint32:\n",
    "    x = np.uint32(x)\n",
    "    return np.uint32(rotr(x, 2) ^ rotr(x, 13) ^ rotr(x, 22))"
   ]
  },
  {
   "cell_type": "markdown",
   "id": "cdbb0aed",
   "metadata": {},
   "source": [
    "Problem 2: Fractional Parts of Cube Roots"
   ]
  },
  {
   "cell_type": "markdown",
   "id": "2d9999d9",
   "metadata": {},
   "source": [
    "Problem 3: Padding"
   ]
  },
  {
   "cell_type": "markdown",
   "id": "fefb3070",
   "metadata": {},
   "source": [
    "Problem 4: Hashes"
   ]
  },
  {
   "cell_type": "markdown",
   "id": "26f4425e",
   "metadata": {},
   "source": [
    "Problem 5: Passwords"
   ]
  }
 ],
 "metadata": {
  "kernelspec": {
   "display_name": "Python 3",
   "language": "python",
   "name": "python3"
  },
  "language_info": {
   "codemirror_mode": {
    "name": "ipython",
    "version": 3
   },
   "file_extension": ".py",
   "mimetype": "text/x-python",
   "name": "python",
   "nbconvert_exporter": "python",
   "pygments_lexer": "ipython3",
   "version": "3.12.1"
  }
 },
 "nbformat": 4,
 "nbformat_minor": 5
}
