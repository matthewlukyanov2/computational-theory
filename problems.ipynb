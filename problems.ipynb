{
 "cells": [
  {
   "cell_type": "markdown",
   "id": "84f136b5",
   "metadata": {},
   "source": [
    "# Computational Theory Problems"
   ]
  },
  {
   "cell_type": "code",
   "execution_count": 4,
   "id": "1b69e757",
   "metadata": {},
   "outputs": [],
   "source": [
    "import numpy as np"
   ]
  },
  {
   "cell_type": "markdown",
   "id": "9e34cadd",
   "metadata": {},
   "source": [
    "Problem 1: Binary Words and Operations"
   ]
  },
  {
   "cell_type": "markdown",
   "id": "cdbb0aed",
   "metadata": {},
   "source": [
    "Problem 2: Fractional Parts of Cube Roots"
   ]
  },
  {
   "cell_type": "markdown",
   "id": "2d9999d9",
   "metadata": {},
   "source": [
    "Problem 3: Padding"
   ]
  },
  {
   "cell_type": "markdown",
   "id": "fefb3070",
   "metadata": {},
   "source": [
    "Problem 4: Hashes"
   ]
  },
  {
   "cell_type": "markdown",
   "id": "26f4425e",
   "metadata": {},
   "source": [
    "Problem 5: Passwords"
   ]
  }
 ],
 "metadata": {
  "kernelspec": {
   "display_name": "Python 3",
   "language": "python",
   "name": "python3"
  },
  "language_info": {
   "codemirror_mode": {
    "name": "ipython",
    "version": 3
   },
   "file_extension": ".py",
   "mimetype": "text/x-python",
   "name": "python",
   "nbconvert_exporter": "python",
   "pygments_lexer": "ipython3",
   "version": "3.12.1"
  }
 },
 "nbformat": 4,
 "nbformat_minor": 5
}
